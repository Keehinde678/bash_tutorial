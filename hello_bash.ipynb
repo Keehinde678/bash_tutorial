{
 "cells": [
  {
   "cell_type": "markdown",
   "id": "65ac6d36-6ca1-4a12-a45f-d029125ad349",
   "metadata": {},
   "source": [
    "Hello World in Python This notebook demonstrates a simple \"Hello, World!\" script in Python.\n",
    "\n"
   ]
  },
  {
   "cell_type": "code",
   "execution_count": 1,
   "id": "722ec2e5-b2a3-47a7-9d04-03ff5cff2880",
   "metadata": {},
   "outputs": [
    {
     "name": "stdout",
     "output_type": "stream",
     "text": [
      "Hello, world!\n"
     ]
    }
   ],
   "source": [
    "%%bash\n",
    "echo \"Hello, world!\"\n"
   ]
  }
 ],
 "metadata": {
  "kernelspec": {
   "display_name": "Python 3 (ipykernel)",
   "language": "python",
   "name": "python3"
  },
  "language_info": {
   "codemirror_mode": {
    "name": "ipython",
    "version": 3
   },
   "file_extension": ".py",
   "mimetype": "text/x-python",
   "name": "python",
   "nbconvert_exporter": "python",
   "pygments_lexer": "ipython3",
   "version": "3.9.18"
  }
 },
 "nbformat": 4,
 "nbformat_minor": 5
}
